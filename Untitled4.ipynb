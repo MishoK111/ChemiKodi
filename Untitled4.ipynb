{
  "nbformat": 4,
  "nbformat_minor": 0,
  "metadata": {
    "colab": {
      "provenance": [],
      "authorship_tag": "ABX9TyM0fuPhbefh45Qb6v178zfE",
      "include_colab_link": true
    },
    "kernelspec": {
      "name": "python3",
      "display_name": "Python 3"
    },
    "language_info": {
      "name": "python"
    }
  },
  "cells": [
    {
      "cell_type": "markdown",
      "metadata": {
        "id": "view-in-github",
        "colab_type": "text"
      },
      "source": [
        "<a href=\"https://colab.research.google.com/github/MishoK111/ChemiKodi/blob/main/Untitled4.ipynb\" target=\"_parent\"><img src=\"https://colab.research.google.com/assets/colab-badge.svg\" alt=\"Open In Colab\"/></a>"
      ]
    },
    {
      "cell_type": "code",
      "execution_count": 1,
      "metadata": {
        "colab": {
          "base_uri": "https://localhost:8080/"
        },
        "id": "_rc06MJA6OcC",
        "outputId": "34532308-6c8a-4f12-a013-670005bfae33"
      },
      "outputs": [
        {
          "output_type": "stream",
          "name": "stdout",
          "text": [
            "Choose r, p, s: r\n",
            "Choose r, p, s: s\n",
            "P1 wins!\n"
          ]
        }
      ],
      "source": [
        "P1 = input(\"Choose r, p, s: \")  # Player 1 input\n",
        "P2 = input(\"Choose r, p, s: \")  # Player 2 input\n",
        "\n",
        "if P1 == P2:\n",
        "    print(\"It's a draw!\")\n",
        "elif (P1 == \"r\" and P2 == \"s\") or (P1 == \"s\" and P2 == \"p\") or (P1 == \"p\" and P2 == \"r\"):\n",
        "    print(\"P1 wins!\")\n",
        "else:\n",
        "    print(\"P2 wins!\")\n"
      ]
    }
  ]
}