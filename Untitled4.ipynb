{
  "nbformat": 4,
  "nbformat_minor": 0,
  "metadata": {
    "colab": {
      "provenance": [],
      "authorship_tag": "ABX9TyPfq1+OS0gEQQ5Btw0Aah99",
      "include_colab_link": true
    },
    "kernelspec": {
      "name": "python3",
      "display_name": "Python 3"
    },
    "language_info": {
      "name": "python"
    }
  },
  "cells": [
    {
      "cell_type": "markdown",
      "metadata": {
        "id": "view-in-github",
        "colab_type": "text"
      },
      "source": [
        "<a href=\"https://colab.research.google.com/github/MishoK111/ChemiKodi/blob/main/Untitled4.ipynb\" target=\"_parent\"><img src=\"https://colab.research.google.com/assets/colab-badge.svg\" alt=\"Open In Colab\"/></a>"
      ]
    },
    {
      "cell_type": "code",
      "execution_count": 2,
      "metadata": {
        "colab": {
          "base_uri": "https://localhost:8080/"
        },
        "id": "_rc06MJA6OcC",
        "outputId": "13d79159-6e77-4e07-f2b0-c16653e4d0f8"
      },
      "outputs": [
        {
          "output_type": "stream",
          "name": "stdout",
          "text": [
            "Enter your first number4\n",
            "Enter your second number2\n",
            "choose symbol+\n",
            "6\n"
          ]
        }
      ],
      "source": [
        "P1 = input(\"Enter your first number \")  # Player 1 input\n",
        "P2 = input(\"Enter your second number \")  # Player 2 input\n",
        "symbol = input(\"choose symbol\")\n",
        "\n",
        "if(symbol == \"+\"):\n",
        "    print(int(P1) + int(P2))\n",
        "elif(symbol == \"-\"):\n",
        "    print(int(P1) - int(P2))\n",
        "elif(symbol == \"*\"):\n",
        "    print(int(P1) * int(P2))\n",
        "elif(symbol == \"/\"):\n",
        "    print(int(P1) / int(P2))\n",
        "elif(symbol == \"**\"):\n",
        "    print(int(P1) ** int(P2))\n",
        "else:\n",
        "    print(\"Invalid input\")\n"
      ]
    }
  ]
}