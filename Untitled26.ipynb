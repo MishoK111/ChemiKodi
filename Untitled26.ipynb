{
  "nbformat": 4,
  "nbformat_minor": 0,
  "metadata": {
    "colab": {
      "provenance": [],
      "authorship_tag": "ABX9TyOFANd6i3O3V4oNvJAgXNVd",
      "include_colab_link": true
    },
    "kernelspec": {
      "name": "python3",
      "display_name": "Python 3"
    },
    "language_info": {
      "name": "python"
    }
  },
  "cells": [
    {
      "cell_type": "markdown",
      "metadata": {
        "id": "view-in-github",
        "colab_type": "text"
      },
      "source": [
        "<a href=\"https://colab.research.google.com/github/MishoK111/ChemiKodi/blob/main/Untitled26.ipynb\" target=\"_parent\"><img src=\"https://colab.research.google.com/assets/colab-badge.svg\" alt=\"Open In Colab\"/></a>"
      ]
    },
    {
      "cell_type": "code",
      "execution_count": 1,
      "metadata": {
        "colab": {
          "base_uri": "https://localhost:8080/"
        },
        "id": "rpSVBsRBwbaL",
        "outputId": "23494b1f-06ef-49f0-e645-38d48ea24d23"
      },
      "outputs": [
        {
          "output_type": "stream",
          "name": "stdout",
          "text": [
            "10 is within the range [5, 15]\n",
            "Is the number in range? True\n"
          ]
        }
      ],
      "source": [
        "\n",
        "def range_check_print(number, low, high):\n",
        "    if low <= number <= high:\n",
        "        print(f\"{number} is within the range [{low}, {high}]\")\n",
        "    else:\n",
        "        print(f\"{number} is not within the range [{low}, {high}]\")\n",
        "\n",
        "\n",
        "def range_check_boolean(number, low, high):\n",
        "    return low <= number <= high\n",
        "\n",
        "\n",
        "number = 10\n",
        "low = 5\n",
        "high = 15\n",
        "\n",
        "\n",
        "range_check_print(number, low, high)\n",
        "\n",
        "\n",
        "in_range = range_check_boolean(number, low, high)\n",
        "print(f\"Is the number in range? {in_range}\")\n"
      ]
    }
  ]
}