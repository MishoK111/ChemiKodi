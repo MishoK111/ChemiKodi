{
  "nbformat": 4,
  "nbformat_minor": 0,
  "metadata": {
    "colab": {
      "provenance": [],
      "authorship_tag": "ABX9TyOuskCU4HAvMYMCUxEETref",
      "include_colab_link": true
    },
    "kernelspec": {
      "name": "python3",
      "display_name": "Python 3"
    },
    "language_info": {
      "name": "python"
    }
  },
  "cells": [
    {
      "cell_type": "markdown",
      "metadata": {
        "id": "view-in-github",
        "colab_type": "text"
      },
      "source": [
        "<a href=\"https://colab.research.google.com/github/MishoK111/ChemiKodi/blob/main/Untitled26.ipynb\" target=\"_parent\"><img src=\"https://colab.research.google.com/assets/colab-badge.svg\" alt=\"Open In Colab\"/></a>"
      ]
    },
    {
      "cell_type": "code",
      "execution_count": 1,
      "metadata": {
        "colab": {
          "base_uri": "https://localhost:8080/"
        },
        "id": "dJVGacOIwx5H",
        "outputId": "f44b6ce5-c6ef-4488-f899-75e0e9ef45d6"
      },
      "outputs": [
        {
          "output_type": "stream",
          "name": "stdout",
          "text": [
            "Number of months: 142\n"
          ]
        }
      ],
      "source": [
        "def calculate_months_to_save_for_down_payment(annual_salary, portion_saved, total_cost, semi_annual_raise):\n",
        "    portion_down_payment = 0.25\n",
        "    current_savings = 0.0\n",
        "    r = 0.04\n",
        "    monthly_salary = annual_salary / 12\n",
        "    down_payment = total_cost * portion_down_payment\n",
        "    months = 0\n",
        "\n",
        "    while current_savings < down_payment:\n",
        "        current_savings += current_savings * r / 12\n",
        "        current_savings += monthly_salary * portion_saved\n",
        "        months += 1\n",
        "        if months % 6 == 0:\n",
        "            annual_salary += annual_salary * semi_annual_raise\n",
        "            monthly_salary = annual_salary / 12\n",
        "\n",
        "    return months\n",
        "\n",
        "\n",
        "annual_salary = 120000\n",
        "portion_saved = 0.10\n",
        "total_cost = 1000000\n",
        "semi_annual_raise = 0.03\n",
        "\n",
        "\n",
        "months = calculate_months_to_save_for_down_payment(annual_salary, portion_saved, total_cost, semi_annual_raise)\n",
        "print(f\"Number of months: {months}\")\n"
      ]
    },
    {
      "cell_type": "code",
      "source": [
        "\n",
        "def range_check_print(number, low, high):\n",
        "    if low <= number <= high:\n",
        "        print(f\"{number} is within the range [{low}, {high}]\")\n",
        "    else:\n",
        "        print(f\"{number} is not within the range [{low}, {high}]\")\n",
        "\n",
        "\n",
        "def range_check_boolean(number, low, high):\n",
        "    return low <= number <= high\n",
        "\n",
        "\n",
        "number = 10\n",
        "low = 5\n",
        "high = 15\n",
        "\n",
        "\n",
        "range_check_print(number, low, high)\n",
        "\n",
        "\n",
        "in_range = range_check_boolean(number, low, high)\n",
        "print(f\"Is the number in range? {in_range}\")"
      ],
      "metadata": {
        "colab": {
          "base_uri": "https://localhost:8080/"
        },
        "id": "RjTLQ4uaw-5i",
        "outputId": "5421f8fb-957d-4b4c-f741-81118b4ba783"
      },
      "execution_count": 2,
      "outputs": [
        {
          "output_type": "stream",
          "name": "stdout",
          "text": [
            "10 is within the range [5, 15]\n",
            "Is the number in range? True\n"
          ]
        }
      ]
    }
  ]
}