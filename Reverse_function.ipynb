{
  "nbformat": 4,
  "nbformat_minor": 0,
  "metadata": {
    "colab": {
      "provenance": [],
      "authorship_tag": "ABX9TyOynu5BhavM8Nooi3nqi3yt",
      "include_colab_link": true
    },
    "kernelspec": {
      "name": "python3",
      "display_name": "Python 3"
    },
    "language_info": {
      "name": "python"
    }
  },
  "cells": [
    {
      "cell_type": "markdown",
      "metadata": {
        "id": "view-in-github",
        "colab_type": "text"
      },
      "source": [
        "<a href=\"https://colab.research.google.com/github/MishoK111/ChemiKodi/blob/main/Reverse_function.ipynb\" target=\"_parent\"><img src=\"https://colab.research.google.com/assets/colab-badge.svg\" alt=\"Open In Colab\"/></a>"
      ]
    },
    {
      "cell_type": "code",
      "execution_count": null,
      "metadata": {
        "id": "hAvUhWTDBL5j"
      },
      "outputs": [],
      "source": [
        "def rev(s):\n",
        "\n",
        "  if len(s) == 1:\n",
        "\n",
        "    return s\n",
        "\n",
        "  else:\n",
        "\n",
        "    return s[-1] + rev(s[:-1])\n",
        "\n",
        "    return rev(s[1:]) + s[0]\n",
        "\n",
        "    return s[-1] + rev(s[1:-1]) + s[0]\n",
        "\n",
        "\n",
        "\n",
        "rev('Halloween')"
      ]
    }
  ]
}