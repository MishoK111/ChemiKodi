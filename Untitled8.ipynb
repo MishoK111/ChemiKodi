{
  "nbformat": 4,
  "nbformat_minor": 0,
  "metadata": {
    "colab": {
      "provenance": [],
      "authorship_tag": "ABX9TyPiHy7ILR6wrhvRZQ6IQSFu",
      "include_colab_link": true
    },
    "kernelspec": {
      "name": "python3",
      "display_name": "Python 3"
    },
    "language_info": {
      "name": "python"
    }
  },
  "cells": [
    {
      "cell_type": "markdown",
      "metadata": {
        "id": "view-in-github",
        "colab_type": "text"
      },
      "source": [
        "<a href=\"https://colab.research.google.com/github/MishoK111/ChemiKodi/blob/main/Untitled8.ipynb\" target=\"_parent\"><img src=\"https://colab.research.google.com/assets/colab-badge.svg\" alt=\"Open In Colab\"/></a>"
      ]
    },
    {
      "cell_type": "code",
      "execution_count": 3,
      "metadata": {
        "colab": {
          "base_uri": "https://localhost:8080/"
        },
        "id": "XonwcY0fDbP3",
        "outputId": "a727d5c5-1894-4992-b55f-08e7ba42cd97"
      },
      "outputs": [
        {
          "output_type": "stream",
          "name": "stdout",
          "text": [
            "Hours | Price\n",
            "----------------\n",
            "  1   | $10.00\n",
            "  2   | $10.00\n",
            "  3   | $12.50\n",
            "  4   | $15.00\n",
            "  5   | $17.50\n",
            "  6   | $20.00\n",
            "  7   | $20.00\n",
            "  8   | $20.00\n"
          ]
        }
      ],
      "source": [
        "# Parking charges calculation\n",
        "min_price = 10\n",
        "max_price = 20\n",
        "base_price = 5\n",
        "additional_price_per_hour = 2.5\n",
        "\n",
        "print(\"Hours | Price\")\n",
        "print(\"----------------\")\n",
        "\n",
        "for hours in range(1, 9):\n",
        "\n",
        "    total_price = base_price + (additional_price_per_hour * hours)\n",
        "\n",
        "\n",
        "    if total_price < min_price:\n",
        "        total_price = min_price\n",
        "    elif total_price > max_price:\n",
        "        total_price = max_price\n",
        "\n",
        "\n",
        "    print(f\"  {hours}   | ${total_price:.2f}\")\n"
      ]
    }
  ]
}