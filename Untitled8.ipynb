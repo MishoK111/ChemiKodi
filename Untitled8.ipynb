{
  "nbformat": 4,
  "nbformat_minor": 0,
  "metadata": {
    "colab": {
      "provenance": [],
      "authorship_tag": "ABX9TyPCYSz1R+3JwoaL877QP8hG",
      "include_colab_link": true
    },
    "kernelspec": {
      "name": "python3",
      "display_name": "Python 3"
    },
    "language_info": {
      "name": "python"
    }
  },
  "cells": [
    {
      "cell_type": "markdown",
      "metadata": {
        "id": "view-in-github",
        "colab_type": "text"
      },
      "source": [
        "<a href=\"https://colab.research.google.com/github/MishoK111/ChemiKodi/blob/main/Untitled8.ipynb\" target=\"_parent\"><img src=\"https://colab.research.google.com/assets/colab-badge.svg\" alt=\"Open In Colab\"/></a>"
      ]
    },
    {
      "cell_type": "code",
      "execution_count": null,
      "metadata": {
        "id": "CbLeVWbK4ZJm"
      },
      "outputs": [],
      "source": [
        "import random as rand\n",
        "c = input(\"want to play a game?\")\n",
        "\n",
        "while c == \"yes\":\n",
        "\n",
        "  P1 = input(\"Choose r, p, s: \")  # Player 1 input\n",
        "  P2 = rand.choice([\"r\", \"p\", \"s\"])\n",
        "\n",
        "  if P1 == P2:\n",
        "      print(\"It's a draw!\")\n",
        "  elif (P1 == \"r\" and P2 == \"s\") or (P1 == \"s\" and P2 == \"p\") or (P1 == \"p\" and P2 == \"r\"):\n",
        "      print(\"P1 wins!\")\n",
        "  else:\n",
        "      print(\"P2 wins!\")"
      ]
    },
    {
      "cell_type": "code",
      "source": [],
      "metadata": {
        "id": "E2B2NILM-8Uq"
      },
      "execution_count": null,
      "outputs": []
    }
  ]
}