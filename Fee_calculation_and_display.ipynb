{
  "nbformat": 4,
  "nbformat_minor": 0,
  "metadata": {
    "colab": {
      "provenance": [],
      "authorship_tag": "ABX9TyOqH3MOgy/azt+MXlPxx1J8",
      "include_colab_link": true
    },
    "kernelspec": {
      "name": "python3",
      "display_name": "Python 3"
    },
    "language_info": {
      "name": "python"
    }
  },
  "cells": [
    {
      "cell_type": "markdown",
      "metadata": {
        "id": "view-in-github",
        "colab_type": "text"
      },
      "source": [
        "<a href=\"https://colab.research.google.com/github/MishoK111/ChemiKodi/blob/main/Fee_calculation_and_display.ipynb\" target=\"_parent\"><img src=\"https://colab.research.google.com/assets/colab-badge.svg\" alt=\"Open In Colab\"/></a>"
      ]
    },
    {
      "cell_type": "code",
      "execution_count": 1,
      "metadata": {
        "colab": {
          "base_uri": "https://localhost:8080/"
        },
        "id": "n7CYhvRrAJZ5",
        "outputId": "b6190f65-2aaf-44b5-b0cf-f8b4af894c6d"
      },
      "outputs": [
        {
          "output_type": "stream",
          "name": "stdout",
          "text": [
            "Enter number of hours: 12\n",
            "35.0\n"
          ]
        }
      ],
      "source": [
        "def displayFee(fee):\n",
        "\n",
        "  print(fee)\n",
        "\n",
        "  return\n",
        "\n",
        "\n",
        "\n",
        "def calcFee(hours, decimals=2):\n",
        "\n",
        "  fee = 5 + hours * 2.5\n",
        "\n",
        "  fee = round(fee, decimals)\n",
        "\n",
        "  return fee\n",
        "\n",
        "\n",
        "\n",
        "def main():\n",
        "\n",
        "  h = int(input('Enter number of hours: '))\n",
        "\n",
        "  fee = calcFee(h)\n",
        "\n",
        "  x = displayFee(fee)\n",
        "\n",
        "\n",
        "\n",
        "if __name__ == \"__main__\":\n",
        "\n",
        "  main()"
      ]
    }
  ]
}