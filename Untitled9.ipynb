{
  "nbformat": 4,
  "nbformat_minor": 0,
  "metadata": {
    "colab": {
      "provenance": [],
      "authorship_tag": "ABX9TyNsTZdXvrjnRCg7VXwy0Btd",
      "include_colab_link": true
    },
    "kernelspec": {
      "name": "python3",
      "display_name": "Python 3"
    },
    "language_info": {
      "name": "python"
    }
  },
  "cells": [
    {
      "cell_type": "markdown",
      "metadata": {
        "id": "view-in-github",
        "colab_type": "text"
      },
      "source": [
        "<a href=\"https://colab.research.google.com/github/MishoK111/ChemiKodi/blob/main/Untitled9.ipynb\" target=\"_parent\"><img src=\"https://colab.research.google.com/assets/colab-badge.svg\" alt=\"Open In Colab\"/></a>"
      ]
    },
    {
      "cell_type": "code",
      "execution_count": null,
      "metadata": {
        "colab": {
          "base_uri": "https://localhost:8080/"
        },
        "id": "0nJgJ495Gc7G",
        "outputId": "0434ece8-488a-4d5b-af89-5aa79aa2e174"
      },
      "outputs": [
        {
          "output_type": "stream",
          "name": "stdout",
          "text": [
            "Do you want to play rock-paper-scissors? (yes/no): yes\n",
            "Choose 'r' for rock, 'p' for paper, 's' for scissors: r\n",
            "Computer chose: r\n",
            "It's a draw!\n"
          ]
        }
      ],
      "source": [
        "import random\n",
        "\n",
        "choices = ['r', 'p', 's']\n",
        "\n",
        "while True:\n",
        "\n",
        "    play = input(\"Do you want to play rock-paper-scissors? (yes/no): \")\n",
        "\n",
        "    if play != 'yes':\n",
        "        print(\"Goodbye!\")\n",
        "        break\n",
        "\n",
        "\n",
        "    P1 = input(\"Choose 'r' for rock, 'p' for paper, 's' for scissors: \")\n",
        "\n",
        "\n",
        "    P2 = random.choice(choices)\n",
        "    print(\"Computer chose:\", P2)\n",
        "\n",
        "\n",
        "    if P1 == P2:\n",
        "        print(\"It's a draw!\")\n",
        "\n",
        "    elif (P1 == 'r' and P2 == 's') or (P1 == 's' and P2 == 'p') or (P1 == 'p' and P2 == 'r'):\n",
        "        print(\"You win!\")\n",
        "\n",
        "    else:\n",
        "        print(\"Computer wins!\")\n",
        "\n"
      ]
    }
  ]
}