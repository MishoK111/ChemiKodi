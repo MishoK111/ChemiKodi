{
  "nbformat": 4,
  "nbformat_minor": 0,
  "metadata": {
    "colab": {
      "provenance": [],
      "authorship_tag": "ABX9TyPbQFbCT5jtjBNxHwV7WPnR",
      "include_colab_link": true
    },
    "kernelspec": {
      "name": "python3",
      "display_name": "Python 3"
    },
    "language_info": {
      "name": "python"
    }
  },
  "cells": [
    {
      "cell_type": "markdown",
      "metadata": {
        "id": "view-in-github",
        "colab_type": "text"
      },
      "source": [
        "<a href=\"https://colab.research.google.com/github/MishoK111/ChemiKodi/blob/main/Class_Student.ipynb\" target=\"_parent\"><img src=\"https://colab.research.google.com/assets/colab-badge.svg\" alt=\"Open In Colab\"/></a>"
      ]
    },
    {
      "cell_type": "code",
      "execution_count": 1,
      "metadata": {
        "id": "HF4zZxvwA4qL"
      },
      "outputs": [],
      "source": [
        "class Student:\n",
        "\n",
        "  def __init__(self, name, number):\n",
        "\n",
        "    self.name = name\n",
        "\n",
        "    self.number = number\n",
        "\n",
        "    self.courses = []\n",
        "\n",
        "\n",
        "\n",
        "  def enroll(self, course):\n",
        "\n",
        "    if course not in self.courses:\n",
        "\n",
        "      self.courses.append(course)\n",
        "\n",
        "    else:\n",
        "\n",
        "      print(f'You haven already enrolled in {course}')\n",
        "\n",
        "\n",
        "\n",
        "  def get_courses(self):\n",
        "\n",
        "    return self.courses"
      ]
    }
  ]
}