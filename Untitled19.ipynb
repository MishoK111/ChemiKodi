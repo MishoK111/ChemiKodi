{
  "nbformat": 4,
  "nbformat_minor": 0,
  "metadata": {
    "colab": {
      "provenance": [],
      "authorship_tag": "ABX9TyMSkbG6MizC7Q9bfsge38N4",
      "include_colab_link": true
    },
    "kernelspec": {
      "name": "python3",
      "display_name": "Python 3"
    },
    "language_info": {
      "name": "python"
    }
  },
  "cells": [
    {
      "cell_type": "markdown",
      "metadata": {
        "id": "view-in-github",
        "colab_type": "text"
      },
      "source": [
        "<a href=\"https://colab.research.google.com/github/MishoK111/ChemiKodi/blob/main/Untitled19.ipynb\" target=\"_parent\"><img src=\"https://colab.research.google.com/assets/colab-badge.svg\" alt=\"Open In Colab\"/></a>"
      ]
    },
    {
      "cell_type": "code",
      "execution_count": 1,
      "metadata": {
        "colab": {
          "base_uri": "https://localhost:8080/"
        },
        "id": "z5hw3GTYlosL",
        "outputId": "9d1dd796-e4b3-49c9-a044-42135e1aca29"
      },
      "outputs": [
        {
          "output_type": "stream",
          "name": "stdout",
          "text": [
            "Enter a number (0 to stop): 5\n",
            "Enter a number (0 to stop): 4\n",
            "Enter a number (0 to stop): 3\n",
            "Enter a number (0 to stop): 5\n",
            "Enter a number (0 to stop): 6\n",
            "Enter a number (0 to stop): 7\n",
            "Enter a number (0 to stop): 0\n",
            "The final list is: [5, 4, 3, 5, 6, 7]\n"
          ]
        }
      ],
      "source": [
        "numbers = []\n",
        "\n",
        "while True:\n",
        "    user_input = int(input(\"Enter a number (0 to stop): \"))\n",
        "    if user_input == 0:\n",
        "        break\n",
        "    numbers.append(user_input)\n",
        "\n",
        "print(\"The final list is:\", numbers)\n"
      ]
    }
  ]
}