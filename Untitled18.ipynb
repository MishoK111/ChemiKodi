{
  "nbformat": 4,
  "nbformat_minor": 0,
  "metadata": {
    "colab": {
      "provenance": [],
      "authorship_tag": "ABX9TyMk68uznOF6kDRsc2rlJtKf",
      "include_colab_link": true
    },
    "kernelspec": {
      "name": "python3",
      "display_name": "Python 3"
    },
    "language_info": {
      "name": "python"
    }
  },
  "cells": [
    {
      "cell_type": "markdown",
      "metadata": {
        "id": "view-in-github",
        "colab_type": "text"
      },
      "source": [
        "<a href=\"https://colab.research.google.com/github/MishoK111/ChemiKodi/blob/main/Untitled18.ipynb\" target=\"_parent\"><img src=\"https://colab.research.google.com/assets/colab-badge.svg\" alt=\"Open In Colab\"/></a>"
      ]
    },
    {
      "cell_type": "code",
      "execution_count": 1,
      "metadata": {
        "colab": {
          "base_uri": "https://localhost:8080/"
        },
        "id": "f54UBTHWlIfM",
        "outputId": "5b0e17d9-2c74-4890-d9b9-9218d2438479"
      },
      "outputs": [
        {
          "output_type": "stream",
          "name": "stdout",
          "text": [
            "Advertising ($)   Profit ($)\n",
            "----------------------------\n",
            "0                0\n",
            "10               50\n",
            "20               60\n",
            "30               70\n",
            "40               80\n",
            "50               90\n",
            "60               100\n",
            "70               90\n",
            "80               100\n",
            "90               90\n",
            "100              100\n"
          ]
        }
      ],
      "source": [
        "print(\"Advertising ($)   Profit ($)\")\n",
        "print(\"----------------------------\")\n",
        "\n",
        "for advertising in range(0, 101, 10):\n",
        "    additional_attendees = 2 * round(advertising ** 0.5)\n",
        "    total_attendees = 20 + additional_attendees\n",
        "    revenue = total_attendees * 10\n",
        "    costs = 200 + advertising\n",
        "    profit = revenue - costs\n",
        "    print(f\"{advertising:<17}{profit}\")\n"
      ]
    }
  ]
}