{
  "nbformat": 4,
  "nbformat_minor": 0,
  "metadata": {
    "colab": {
      "provenance": [],
      "authorship_tag": "ABX9TyOZ33rJUFqqvhYsypHq9y+J",
      "include_colab_link": true
    },
    "kernelspec": {
      "name": "python3",
      "display_name": "Python 3"
    },
    "language_info": {
      "name": "python"
    }
  },
  "cells": [
    {
      "cell_type": "markdown",
      "metadata": {
        "id": "view-in-github",
        "colab_type": "text"
      },
      "source": [
        "<a href=\"https://colab.research.google.com/github/MishoK111/ChemiKodi/blob/main/Untitled1.ipynb\" target=\"_parent\"><img src=\"https://colab.research.google.com/assets/colab-badge.svg\" alt=\"Open In Colab\"/></a>"
      ]
    },
    {
      "cell_type": "code",
      "execution_count": 1,
      "metadata": {
        "colab": {
          "base_uri": "https://localhost:8080/"
        },
        "id": "5_Nck-YIf4jn",
        "outputId": "56e61f1d-9a24-4111-d706-d274fe00b1b4"
      },
      "outputs": [
        {
          "output_type": "stream",
          "name": "stdout",
          "text": [
            "The surface area of the cylinder is: 244.92000000000002\n"
          ]
        }
      ],
      "source": [
        "pi = 3.14\n",
        "height = 10\n",
        "radius = 3\n",
        "\n",
        "# Calculate the surface area of the cylinder\n",
        "area = 2 * pi * radius**2 + 2 * pi * radius * height\n",
        "\n",
        "# Print the result\n",
        "print(\"The surface area of the cylinder is:\", area)"
      ]
    }
  ]
}