{
  "nbformat": 4,
  "nbformat_minor": 0,
  "metadata": {
    "colab": {
      "provenance": [],
      "authorship_tag": "ABX9TyMAQUilTf4Rc4FnfojX4rC8",
      "include_colab_link": true
    },
    "kernelspec": {
      "name": "python3",
      "display_name": "Python 3"
    },
    "language_info": {
      "name": "python"
    }
  },
  "cells": [
    {
      "cell_type": "markdown",
      "metadata": {
        "id": "view-in-github",
        "colab_type": "text"
      },
      "source": [
        "<a href=\"https://colab.research.google.com/github/MishoK111/ChemiKodi/blob/main/Untitled17.ipynb\" target=\"_parent\"><img src=\"https://colab.research.google.com/assets/colab-badge.svg\" alt=\"Open In Colab\"/></a>"
      ]
    },
    {
      "cell_type": "code",
      "execution_count": 1,
      "metadata": {
        "colab": {
          "base_uri": "https://localhost:8080/"
        },
        "id": "-ZDEJYU8klu0",
        "outputId": "8a5ce06a-381e-47f5-eb65-28a9ab89eeb1"
      },
      "outputs": [
        {
          "output_type": "stream",
          "name": "stdout",
          "text": [
            "Hours Parked   Fee ($)\n",
            "-----------------------\n",
            "1             10.00\n",
            "2             10.00\n",
            "3             12.50\n",
            "4             15.00\n",
            "5             17.50\n",
            "6             20.00\n",
            "7             20.00\n",
            "8             20.00\n"
          ]
        }
      ],
      "source": [
        "print(\"Hours Parked   Fee ($)\")\n",
        "print(\"-----------------------\")\n",
        "\n",
        "for hours in range(1, 9):\n",
        "    fee = 5 + 2.5 * hours\n",
        "    if fee < 10:\n",
        "        fee = 10\n",
        "    elif fee > 20:\n",
        "        fee = 20\n",
        "    print(f\"{hours:<14}{fee:.2f}\")"
      ]
    }
  ]
}